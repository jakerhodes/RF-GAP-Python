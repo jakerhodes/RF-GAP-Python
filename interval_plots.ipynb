{
 "cells": [
  {
   "cell_type": "code",
   "execution_count": null,
   "metadata": {},
   "outputs": [],
   "source": [
    "from rfgap import RFGAP\n",
    "import numpy as np\n",
    "import matplotlib.pyplot as plt\n",
    "import seaborn as sns\n",
    "from dataset import load_regression\n",
    "from sklearn.model_selection import train_test_split\n",
    "\n",
    "sns.set_theme()"
   ]
  },
  {
   "cell_type": "code",
   "execution_count": null,
   "metadata": {},
   "outputs": [],
   "source": [
    "data_name = 'AirQuality'\n",
    "x, y = load_regression('../datasets/regression/' + data_name)\n",
    "n, d   = x.shape"
   ]
  },
  {
   "cell_type": "code",
   "execution_count": null,
   "metadata": {},
   "outputs": [],
   "source": [
    "def is_in_interval(y, lwr, upr):\n",
    "    return np.logical_and(y >= lwr, y <= upr)\n",
    "\n",
    "def get_coverage(y, y_lwr, y_upr):\n",
    "    return np.mean((y >= y_lwr) & (y <= y_upr))\n",
    "\n",
    "\n",
    "def get_width_stats(y_lwr, y_upr):\n",
    "    widths = y_upr - y_lwr\n",
    "    mean = np.mean(widths)\n",
    "    sd = np.std(widths)\n",
    "    min = np.min(widths)\n",
    "    q1 = np.quantile(widths, 0.25)\n",
    "    q2 = np.quantile(widths, 0.50)\n",
    "    q3 = np.quantile(widths, 0.75)\n",
    "    max = np.max(widths)\n",
    "    return mean, sd, min, q1, q2, q3, max\n"
   ]
  },
  {
   "cell_type": "code",
   "execution_count": null,
   "metadata": {},
   "outputs": [],
   "source": [
    "x_train, x_test, y_train, y_test, inds_train, inds_test = train_test_split(x, y, np.arange(n), test_size=0.2, random_state = 42)"
   ]
  },
  {
   "cell_type": "code",
   "execution_count": null,
   "metadata": {},
   "outputs": [],
   "source": [
    "# Random forest on all data for PHATE embedding visualization\n",
    "rfphate = RFGAP(oob_score = True, non_zero_diagonal = True, random_state = 42, y = y)\n",
    "rfphate.fit(x, y)\n",
    "prox_phate = rfphate.get_proximities()"
   ]
  },
  {
   "cell_type": "code",
   "execution_count": null,
   "metadata": {},
   "outputs": [],
   "source": [
    "# Random forest for uncertainty measures; using split datasets\n",
    "rf = RFGAP(oob_score = True, random_state = 42, y = y)\n",
    "rf.fit(x_train, y_train)\n",
    "# prox = rf.get_proximities()"
   ]
  },
  {
   "cell_type": "code",
   "execution_count": null,
   "metadata": {},
   "outputs": [],
   "source": [
    "y_pred_test, y_pred_lwr_test, y_pred_upr_test = rf.predict_interval(X_test = x_test,\n",
    "                                                                    n_neighbors = 'all',\n",
    "                                                                    level = 0.90)"
   ]
  },
  {
   "cell_type": "code",
   "execution_count": null,
   "metadata": {},
   "outputs": [],
   "source": [
    "sort_idx = y_pred_test.argsort()\n",
    "y_grid = np.linspace(np.min(y_test), np.max(y_test), len(y_test))\n",
    "is_covered = is_in_interval(y_test, y_pred_lwr_test, y_pred_upr_test)"
   ]
  },
  {
   "cell_type": "code",
   "execution_count": null,
   "metadata": {},
   "outputs": [],
   "source": [
    "sns.scatterplot(x = y_pred_test, y = y_test)\n",
    "plt.fill_between(np.sort(y_pred_test), y_pred_lwr_test[sort_idx],\n",
    "                 y_pred_upr_test[sort_idx], color='skyblue', alpha=0.4)\n",
    "\n",
    "plt.plot(y_grid, y_grid, color = 'darkblue')\n",
    "plt.scatter(y_pred_test[~is_covered], y_test[~is_covered], color = 'red')"
   ]
  },
  {
   "cell_type": "code",
   "execution_count": null,
   "metadata": {},
   "outputs": [],
   "source": [
    "plt.plot(y_pred_test[sort_idx]) # Add intervals\n",
    "plt.fill_between(range(len(y_test)), y_pred_lwr_test[sort_idx], \n",
    "                 y_pred_upr_test[sort_idx], color='skyblue', alpha=0.4, label='Confidence Interval')"
   ]
  }
 ],
 "metadata": {
  "kernelspec": {
   "display_name": "rfgap",
   "language": "python",
   "name": "python3"
  },
  "language_info": {
   "codemirror_mode": {
    "name": "ipython",
    "version": 3
   },
   "file_extension": ".py",
   "mimetype": "text/x-python",
   "name": "python",
   "nbconvert_exporter": "python",
   "pygments_lexer": "ipython3",
   "version": "3.11.5"
  }
 },
 "nbformat": 4,
 "nbformat_minor": 2
}
