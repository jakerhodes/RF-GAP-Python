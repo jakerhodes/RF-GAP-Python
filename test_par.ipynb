{
 "cells": [
  {
   "cell_type": "code",
   "execution_count": 111,
   "metadata": {},
   "outputs": [
    {
     "name": "stderr",
     "output_type": "stream",
     "text": [
      "/tmp/ipykernel_3047578/1388939584.py:10: DeprecationWarning: distutils Version classes are deprecated. Use packaging.version instead.\n",
      "  if LooseVersion(sklearn.__version__) >= LooseVersion(\"0.24\"):\n"
     ]
    }
   ],
   "source": [
    "import timeit\n",
    "from rfgap import RFGAP\n",
    "import pandas as pd\n",
    "from dataset import dataprep\n",
    "import numpy as np\n",
    "\n",
    "import sklearn\n",
    "\n",
    "from distutils.version import LooseVersion\n",
    "if LooseVersion(sklearn.__version__) >= LooseVersion(\"0.24\"):\n",
    "    # In sklearn version 0.24, forest module changed to be private.\n",
    "    from sklearn.ensemble._forest import _generate_unsampled_indices\n",
    "    from sklearn.ensemble import _forest as forest\n",
    "    from sklearn.ensemble._forest import _generate_sample_indices\n",
    "\n",
    "\n",
    "import matplotlib.pyplot as plt"
   ]
  },
  {
   "cell_type": "code",
   "execution_count": 112,
   "metadata": {},
   "outputs": [],
   "source": [
    "# Read in the data\n",
    "data   = pd.read_csv('../datasets/waveform.csv', sep = ',')\n",
    "x, y   = dataprep(data)\n",
    "n, d   = x.shape\n",
    "n_classes = len(y.unique())"
   ]
  },
  {
   "cell_type": "code",
   "execution_count": 113,
   "metadata": {},
   "outputs": [],
   "source": [
    "rf = RFGAP(random_state = 0)\n",
    "rf.fit(x, y)\n",
    "\n",
    "tree = rf.estimators_[0]"
   ]
  },
  {
   "cell_type": "code",
   "execution_count": 123,
   "metadata": {},
   "outputs": [],
   "source": [
    "def tree_rfgap(tree, x):\n",
    "\n",
    "    in_bag_inds = _generate_sample_indices(tree.random_state, n, n)\n",
    "\n",
    "    # in_bag_bool = np.zeros(n, dtype = int)\n",
    "    # in_bag_bool[in_bag_inds] = 1\n",
    "\n",
    "\n",
    "    oob_inds = _generate_unsampled_indices(tree.random_state, n, n)\n",
    "    in_bag_counts = np.bincount(in_bag_inds, minlength = n)\n",
    "    leaves = tree.apply(x)\n",
    "    # in_bag_leaves = leaves * in_bag_bool\n",
    "\n",
    "    # Is bincount faster than the following?\n",
    "    # oob_bool = np.zeros(n, dtype = int)\n",
    "    # oob_bool[oob_inds] = 1\n",
    "\n",
    "    oob_bool = np.bincount(oob_inds, minlength = n)\n",
    "    oob_leaves = leaves * oob_bool\n",
    "\n",
    "    matches = np.equal.outer(oob_leaves, leaves)\n",
    "\n",
    "    prox = matches * in_bag_counts\n",
    "    M = prox.sum(axis = 1)\n",
    "    M[M == 0] = 1\n",
    "    prox = prox / M[:, np.newaxis]\n",
    "\n",
    "    \n",
    "\n",
    "    return prox\n",
    "\n"
   ]
  },
  {
   "cell_type": "code",
   "execution_count": 124,
   "metadata": {},
   "outputs": [],
   "source": [
    "prox = tree_rfgap(tree, x)"
   ]
  },
  {
   "cell_type": "code",
   "execution_count": 125,
   "metadata": {},
   "outputs": [
    {
     "data": {
      "text/plain": [
       "<matplotlib.image.AxesImage at 0x7f1e2f94de50>"
      ]
     },
     "execution_count": 125,
     "metadata": {},
     "output_type": "execute_result"
    },
    {
     "data": {
      "image/png": "[encoded data removed]",
      "text/plain": [
       "<Figure size 640x480 with 1 Axes>"
      ]
     },
     "metadata": {},
     "output_type": "display_data"
    }
   ],
   "source": [
    "plt.imshow(prox)"
   ]
  },
  {
   "cell_type": "code",
   "execution_count": 126,
   "metadata": {},
   "outputs": [],
   "source": [
    "for tree in rf.estimators_:\n",
    "    prox = tree_rfgap(tree, x)"
   ]
  },
  {
   "cell_type": "code",
   "execution_count": 122,
   "metadata": {},
   "outputs": [
    {
     "data": {
      "text/plain": [
       "<5000x5000 sparse matrix of type '<class 'numpy.float64'>'\n",
       "\twith 4433919 stored elements in Compressed Sparse Row format>"
      ]
     },
     "execution_count": 122,
     "metadata": {},
     "output_type": "execute_result"
    }
   ],
   "source": [
    "rf.get_proximities()"
   ]
  },
  {
   "cell_type": "code",
   "execution_count": 129,
   "metadata": {},
   "outputs": [],
   "source": [
    "from joblib import Parallel, delayed\n",
    "\n",
    "\n",
    "\n",
    "# Use joblib to parallelize the square function\n",
    "results = Parallel(n_jobs=-1)(delayed(tree_rfgap)(i, x) for i in rf.estimators_)"
   ]
  }
 ],
 "metadata": {
  "kernelspec": {
   "display_name": "rfgap",
   "language": "python",
   "name": "python3"
  },
  "language_info": {
   "codemirror_mode": {
    "name": "ipython",
    "version": 3
   },
   "file_extension": ".py",
   "mimetype": "text/x-python",
   "name": "python",
   "nbconvert_exporter": "python",
   "pygments_lexer": "ipython3",
   "version": "3.12.0"
  }
 },
 "nbformat": 4,
 "nbformat_minor": 2
}
